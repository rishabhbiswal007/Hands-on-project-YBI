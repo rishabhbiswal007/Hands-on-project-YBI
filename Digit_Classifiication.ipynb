{
  "nbformat": 4,
  "nbformat_minor": 0,
  "metadata": {
    "colab": {
      "name": "Digit_Classifiication.ipynb",
      "provenance": [],
      "collapsed_sections": [],
      "toc_visible": true
    },
    "kernelspec": {
      "name": "python3",
      "display_name": "Python 3"
    },
    "language_info": {
      "name": "python"
    }
  },
  "cells": [
    {
      "cell_type": "markdown",
      "source": [
        "# **Hand Written Digit Prediction - Classifiication Analysis**\n",
        "# Attributes Information\n",
        "\n",
        "The didgit dataset consists of 8x8 pixel images of digits .the images attribute of the dataset stores 8x8 arrays of grayscale values for each image. We will use these arrays to visualize the first 4 images . The target attribute of the dataset stores the digit each image represents."
      ],
      "metadata": {
        "id": "qtOznCvQu_2j"
      }
    },
    {
      "cell_type": "markdown",
      "source": [
        "# **Import Library**"
      ],
      "metadata": {
        "id": "ZBqeYiuMvKea"
      }
    },
    {
      "cell_type": "code",
      "source": [
        "import pandas as pd\n",
        "import numpy as np\n",
        "import matplotlib.pyplot as plt"
      ],
      "metadata": {
        "id": "ghmGcmMKvGSc"
      },
      "execution_count": null,
      "outputs": []
    },
    {
      "cell_type": "markdown",
      "source": [
        "# **Import Data**"
      ],
      "metadata": {
        "id": "XIkwhcIovNE9"
      }
    },
    {
      "cell_type": "code",
      "source": [
        "from sklearn.datasets import load_digits"
      ],
      "metadata": {
        "id": "lsAP_jAcvO3t"
      },
      "execution_count": null,
      "outputs": []
    },
    {
      "cell_type": "code",
      "source": [
        "df = load_digits()"
      ],
      "metadata": {
        "id": "O1Tb38aWvO74"
      },
      "execution_count": null,
      "outputs": []
    },
    {
      "cell_type": "markdown",
      "source": [
        "# **Data Preproccessing**\n",
        "Flatten Image"
      ],
      "metadata": {
        "id": "sKeOYoNSvU9P"
      }
    },
    {
      "cell_type": "code",
      "source": [
        "df.images.shape"
      ],
      "metadata": {
        "colab": {
          "base_uri": "https://localhost:8080/"
        },
        "id": "zRBD_mUtvZYR",
        "outputId": "9dd98742-bd27-4c58-82a7-f0e1f8548e67"
      },
      "execution_count": null,
      "outputs": [
        {
          "output_type": "execute_result",
          "data": {
            "text/plain": [
              "(1797, 8, 8)"
            ]
          },
          "metadata": {},
          "execution_count": 4
        }
      ]
    },
    {
      "cell_type": "code",
      "source": [
        "df.images[0]"
      ],
      "metadata": {
        "colab": {
          "base_uri": "https://localhost:8080/"
        },
        "id": "91UFhsstvbYK",
        "outputId": "567f5156-d018-4fb4-cccf-f8ee84356043"
      },
      "execution_count": null,
      "outputs": [
        {
          "output_type": "execute_result",
          "data": {
            "text/plain": [
              "array([[ 0.,  0.,  5., 13.,  9.,  1.,  0.,  0.],\n",
              "       [ 0.,  0., 13., 15., 10., 15.,  5.,  0.],\n",
              "       [ 0.,  3., 15.,  2.,  0., 11.,  8.,  0.],\n",
              "       [ 0.,  4., 12.,  0.,  0.,  8.,  8.,  0.],\n",
              "       [ 0.,  5.,  8.,  0.,  0.,  9.,  8.,  0.],\n",
              "       [ 0.,  4., 11.,  0.,  1., 12.,  7.,  0.],\n",
              "       [ 0.,  2., 14.,  5., 10., 12.,  0.,  0.],\n",
              "       [ 0.,  0.,  6., 13., 10.,  0.,  0.,  0.]])"
            ]
          },
          "metadata": {},
          "execution_count": 5
        }
      ]
    },
    {
      "cell_type": "code",
      "source": [
        "df.images[0].shape"
      ],
      "metadata": {
        "colab": {
          "base_uri": "https://localhost:8080/"
        },
        "id": "j2qM0caNvbbj",
        "outputId": "c5b4822f-725c-4b5f-ac2d-f8d2d2ffca35"
      },
      "execution_count": null,
      "outputs": [
        {
          "output_type": "execute_result",
          "data": {
            "text/plain": [
              "(8, 8)"
            ]
          },
          "metadata": {},
          "execution_count": 6
        }
      ]
    },
    {
      "cell_type": "code",
      "source": [
        "n_samples = len(df.images)\n",
        "data = df.images.reshape(n_samples,-1)"
      ],
      "metadata": {
        "id": "tguEzJzwvbeA"
      },
      "execution_count": null,
      "outputs": []
    },
    {
      "cell_type": "code",
      "source": [
        "data[0]"
      ],
      "metadata": {
        "colab": {
          "base_uri": "https://localhost:8080/"
        },
        "id": "I3C0c6k3vbgg",
        "outputId": "f7622ee0-4a4a-4b31-a0e6-e160de558b62"
      },
      "execution_count": null,
      "outputs": [
        {
          "output_type": "execute_result",
          "data": {
            "text/plain": [
              "array([ 0.,  0.,  5., 13.,  9.,  1.,  0.,  0.,  0.,  0., 13., 15., 10.,\n",
              "       15.,  5.,  0.,  0.,  3., 15.,  2.,  0., 11.,  8.,  0.,  0.,  4.,\n",
              "       12.,  0.,  0.,  8.,  8.,  0.,  0.,  5.,  8.,  0.,  0.,  9.,  8.,\n",
              "        0.,  0.,  4., 11.,  0.,  1., 12.,  7.,  0.,  0.,  2., 14.,  5.,\n",
              "       10., 12.,  0.,  0.,  0.,  0.,  6., 13., 10.,  0.,  0.,  0.])"
            ]
          },
          "metadata": {},
          "execution_count": 8
        }
      ]
    },
    {
      "cell_type": "code",
      "source": [
        "data[0].shape"
      ],
      "metadata": {
        "colab": {
          "base_uri": "https://localhost:8080/"
        },
        "id": "BXHpuv0dvbi0",
        "outputId": "4cdfb494-a2e9-4f3f-a8d2-26528cf96db0"
      },
      "execution_count": null,
      "outputs": [
        {
          "output_type": "execute_result",
          "data": {
            "text/plain": [
              "(64,)"
            ]
          },
          "metadata": {},
          "execution_count": 9
        }
      ]
    },
    {
      "cell_type": "code",
      "source": [
        "data.shape"
      ],
      "metadata": {
        "colab": {
          "base_uri": "https://localhost:8080/"
        },
        "id": "NoQgVGzMvblb",
        "outputId": "19742b9e-1156-4bb8-81df-fc0adb528ac9"
      },
      "execution_count": null,
      "outputs": [
        {
          "output_type": "execute_result",
          "data": {
            "text/plain": [
              "(1797, 64)"
            ]
          },
          "metadata": {},
          "execution_count": 10
        }
      ]
    },
    {
      "cell_type": "markdown",
      "source": [
        "# **Scaling the Data**"
      ],
      "metadata": {
        "id": "jwW3B8F2vptW"
      }
    },
    {
      "cell_type": "code",
      "source": [
        "data.min()"
      ],
      "metadata": {
        "colab": {
          "base_uri": "https://localhost:8080/"
        },
        "id": "C7EHrpHCvboA",
        "outputId": "0c0d90c1-d10e-44b3-bfc3-f63728361396"
      },
      "execution_count": null,
      "outputs": [
        {
          "output_type": "execute_result",
          "data": {
            "text/plain": [
              "0.0"
            ]
          },
          "metadata": {},
          "execution_count": 11
        }
      ]
    },
    {
      "cell_type": "code",
      "source": [
        "data.max()"
      ],
      "metadata": {
        "colab": {
          "base_uri": "https://localhost:8080/"
        },
        "id": "zNyfA4yivbqc",
        "outputId": "6415d967-acf4-40ec-f0e9-ec41cecb3ecd"
      },
      "execution_count": null,
      "outputs": [
        {
          "output_type": "execute_result",
          "data": {
            "text/plain": [
              "16.0"
            ]
          },
          "metadata": {},
          "execution_count": 12
        }
      ]
    },
    {
      "cell_type": "code",
      "source": [
        "data=data/16"
      ],
      "metadata": {
        "id": "HIXXoG7pvbss"
      },
      "execution_count": null,
      "outputs": []
    },
    {
      "cell_type": "code",
      "source": [
        "data.min()"
      ],
      "metadata": {
        "colab": {
          "base_uri": "https://localhost:8080/"
        },
        "id": "pVXXCYfqvbve",
        "outputId": "acf51905-0536-4b8f-e3da-c89b2e184f87"
      },
      "execution_count": null,
      "outputs": [
        {
          "output_type": "execute_result",
          "data": {
            "text/plain": [
              "0.0"
            ]
          },
          "metadata": {},
          "execution_count": 14
        }
      ]
    },
    {
      "cell_type": "code",
      "source": [
        "data.max()"
      ],
      "metadata": {
        "colab": {
          "base_uri": "https://localhost:8080/"
        },
        "id": "5eHBd2OQwPEG",
        "outputId": "d53174a7-4b98-409f-8c41-36bed9fc442c"
      },
      "execution_count": null,
      "outputs": [
        {
          "output_type": "execute_result",
          "data": {
            "text/plain": [
              "1.0"
            ]
          },
          "metadata": {},
          "execution_count": 15
        }
      ]
    },
    {
      "cell_type": "code",
      "source": [
        "data[0]"
      ],
      "metadata": {
        "colab": {
          "base_uri": "https://localhost:8080/"
        },
        "id": "iP8cJg0HwPGj",
        "outputId": "fb505190-19de-4c40-e714-43f958784305"
      },
      "execution_count": null,
      "outputs": [
        {
          "output_type": "execute_result",
          "data": {
            "text/plain": [
              "array([0.    , 0.    , 0.3125, 0.8125, 0.5625, 0.0625, 0.    , 0.    ,\n",
              "       0.    , 0.    , 0.8125, 0.9375, 0.625 , 0.9375, 0.3125, 0.    ,\n",
              "       0.    , 0.1875, 0.9375, 0.125 , 0.    , 0.6875, 0.5   , 0.    ,\n",
              "       0.    , 0.25  , 0.75  , 0.    , 0.    , 0.5   , 0.5   , 0.    ,\n",
              "       0.    , 0.3125, 0.5   , 0.    , 0.    , 0.5625, 0.5   , 0.    ,\n",
              "       0.    , 0.25  , 0.6875, 0.    , 0.0625, 0.75  , 0.4375, 0.    ,\n",
              "       0.    , 0.125 , 0.875 , 0.3125, 0.625 , 0.75  , 0.    , 0.    ,\n",
              "       0.    , 0.    , 0.375 , 0.8125, 0.625 , 0.    , 0.    , 0.    ])"
            ]
          },
          "metadata": {},
          "execution_count": 16
        }
      ]
    },
    {
      "cell_type": "markdown",
      "source": [
        "# **Train Test Split Data**"
      ],
      "metadata": {
        "id": "3Jks_2bpwVaN"
      }
    },
    {
      "cell_type": "code",
      "source": [
        "from sklearn.model_selection import train_test_split"
      ],
      "metadata": {
        "id": "Iy4hcYAAwPI4"
      },
      "execution_count": null,
      "outputs": []
    },
    {
      "cell_type": "code",
      "source": [
        "X_train , X_test, y_train , y_test =train_test_split(data ,df.target , train_size=0.7,random_state=182529)"
      ],
      "metadata": {
        "id": "Bkqho7sJwPLX"
      },
      "execution_count": null,
      "outputs": []
    },
    {
      "cell_type": "code",
      "source": [
        "X_train.shape , X_test.shape, y_train.shape , y_test.shape"
      ],
      "metadata": {
        "colab": {
          "base_uri": "https://localhost:8080/"
        },
        "id": "KOTnELdhwPNz",
        "outputId": "86fdb3cf-909e-452f-cd6c-fcb55d7e9d62"
      },
      "execution_count": null,
      "outputs": [
        {
          "output_type": "execute_result",
          "data": {
            "text/plain": [
              "((1257, 64), (540, 64), (1257,), (540,))"
            ]
          },
          "metadata": {},
          "execution_count": 19
        }
      ]
    },
    {
      "cell_type": "markdown",
      "source": [
        "# **Random Forest Model**"
      ],
      "metadata": {
        "id": "JRBr000MwfZU"
      }
    },
    {
      "cell_type": "code",
      "source": [
        "from sklearn.ensemble import RandomForestClassifier"
      ],
      "metadata": {
        "id": "v2WsyoDnwPQM"
      },
      "execution_count": null,
      "outputs": []
    },
    {
      "cell_type": "code",
      "source": [
        "rf= RandomForestClassifier()"
      ],
      "metadata": {
        "id": "-QFODNg4wPSv"
      },
      "execution_count": null,
      "outputs": []
    },
    {
      "cell_type": "code",
      "source": [
        "rf.fit(X_train,y_train)"
      ],
      "metadata": {
        "colab": {
          "base_uri": "https://localhost:8080/"
        },
        "id": "bh1EVZ2RwPVH",
        "outputId": "e4e14e9b-0a3c-444d-ec33-c3df22a40798"
      },
      "execution_count": null,
      "outputs": [
        {
          "output_type": "execute_result",
          "data": {
            "text/plain": [
              "RandomForestClassifier()"
            ]
          },
          "metadata": {},
          "execution_count": 22
        }
      ]
    },
    {
      "cell_type": "markdown",
      "source": [
        "# **Predict Test Data**"
      ],
      "metadata": {
        "id": "CXLfJF8Bwo6c"
      }
    },
    {
      "cell_type": "code",
      "source": [
        "y_pred=rf.predict(X_test)"
      ],
      "metadata": {
        "id": "Bi1GkXPcwPXY"
      },
      "execution_count": null,
      "outputs": []
    },
    {
      "cell_type": "code",
      "source": [
        "y_pred"
      ],
      "metadata": {
        "colab": {
          "base_uri": "https://localhost:8080/"
        },
        "id": "EiOPLKDxwPZ2",
        "outputId": "fbe00273-f45b-4359-e22d-31c4ef4ab21d"
      },
      "execution_count": null,
      "outputs": [
        {
          "output_type": "execute_result",
          "data": {
            "text/plain": [
              "array([4, 6, 4, 9, 8, 1, 0, 3, 7, 7, 0, 2, 1, 5, 6, 7, 5, 5, 6, 9, 8, 4,\n",
              "       4, 1, 9, 8, 8, 8, 5, 0, 6, 7, 1, 5, 3, 4, 7, 0, 4, 6, 7, 1, 2, 8,\n",
              "       1, 2, 9, 0, 2, 8, 5, 0, 5, 8, 8, 5, 4, 3, 3, 0, 1, 9, 5, 9, 2, 5,\n",
              "       6, 5, 9, 8, 1, 3, 2, 1, 6, 0, 3, 6, 9, 0, 3, 3, 1, 3, 7, 4, 0, 9,\n",
              "       3, 8, 2, 2, 2, 8, 7, 8, 9, 7, 2, 1, 7, 9, 3, 3, 4, 7, 7, 4, 9, 5,\n",
              "       3, 9, 1, 4, 2, 2, 6, 7, 8, 6, 3, 1, 3, 5, 1, 5, 7, 7, 1, 9, 7, 2,\n",
              "       7, 6, 0, 0, 4, 3, 8, 8, 1, 8, 9, 4, 6, 7, 6, 4, 9, 5, 2, 7, 1, 5,\n",
              "       8, 0, 3, 6, 6, 5, 0, 9, 1, 4, 4, 6, 3, 7, 0, 3, 8, 8, 3, 7, 2, 4,\n",
              "       2, 0, 9, 6, 2, 7, 4, 0, 7, 3, 5, 2, 3, 1, 3, 5, 3, 1, 5, 0, 5, 8,\n",
              "       1, 6, 6, 5, 9, 4, 6, 8, 9, 0, 6, 9, 1, 9, 3, 5, 2, 5, 3, 8, 9, 5,\n",
              "       4, 6, 7, 9, 8, 4, 3, 3, 4, 0, 8, 0, 2, 0, 1, 7, 4, 2, 9, 5, 4, 7,\n",
              "       5, 8, 5, 3, 1, 7, 7, 5, 6, 3, 7, 3, 8, 4, 4, 7, 0, 1, 9, 8, 3, 1,\n",
              "       3, 6, 5, 7, 1, 5, 4, 8, 0, 6, 2, 4, 3, 0, 5, 7, 4, 3, 1, 3, 0, 3,\n",
              "       1, 0, 1, 4, 6, 8, 3, 6, 3, 8, 7, 6, 7, 5, 3, 7, 8, 8, 6, 6, 6, 6,\n",
              "       6, 5, 9, 7, 2, 8, 4, 6, 1, 1, 4, 0, 7, 8, 2, 9, 4, 2, 8, 9, 7, 1,\n",
              "       6, 4, 5, 4, 3, 2, 4, 3, 5, 0, 3, 1, 6, 3, 0, 6, 1, 5, 6, 5, 4, 2,\n",
              "       9, 8, 1, 3, 8, 7, 0, 0, 9, 0, 1, 2, 7, 4, 5, 9, 6, 2, 0, 0, 2, 8,\n",
              "       3, 5, 1, 1, 9, 1, 0, 7, 8, 8, 4, 6, 9, 1, 2, 5, 9, 9, 7, 3, 3, 7,\n",
              "       0, 1, 8, 3, 3, 2, 4, 4, 9, 0, 1, 6, 3, 0, 1, 3, 8, 1, 2, 3, 2, 3,\n",
              "       0, 7, 9, 6, 0, 9, 5, 6, 2, 1, 9, 5, 0, 6, 8, 8, 2, 7, 7, 8, 5, 9,\n",
              "       2, 9, 7, 8, 0, 6, 9, 0, 6, 1, 4, 2, 7, 2, 3, 9, 6, 8, 1, 3, 7, 9,\n",
              "       6, 7, 2, 8, 2, 3, 1, 7, 0, 7, 9, 0, 6, 3, 9, 4, 9, 2, 6, 7, 6, 3,\n",
              "       3, 4, 1, 1, 4, 8, 5, 2, 0, 4, 7, 2, 9, 9, 1, 2, 6, 4, 3, 2, 0, 7,\n",
              "       5, 4, 4, 5, 0, 2, 2, 3, 6, 5, 7, 7, 5, 4, 3, 2, 2, 9, 2, 4, 5, 6,\n",
              "       6, 0, 6, 0, 0, 7, 6, 7, 9, 9, 0, 9])"
            ]
          },
          "metadata": {},
          "execution_count": 24
        }
      ]
    },
    {
      "cell_type": "markdown",
      "source": [
        "# **Model Accuracy**"
      ],
      "metadata": {
        "id": "F4g5rIEXwwN-"
      }
    },
    {
      "cell_type": "code",
      "source": [
        "from sklearn.metrics import confusion_matrix,classification_report"
      ],
      "metadata": {
        "id": "WmLsqRJ9wPc4"
      },
      "execution_count": null,
      "outputs": []
    },
    {
      "cell_type": "code",
      "source": [
        "confusion_matrix(y_test, y_pred)"
      ],
      "metadata": {
        "colab": {
          "base_uri": "https://localhost:8080/"
        },
        "id": "pVytWmW5wPgS",
        "outputId": "17b08711-7f1a-4727-c26b-561a932e610b"
      },
      "execution_count": null,
      "outputs": [
        {
          "output_type": "execute_result",
          "data": {
            "text/plain": [
              "array([[53,  0,  0,  0,  1,  0,  0,  0,  0,  0],\n",
              "       [ 0, 50,  0,  0,  0,  0,  0,  0,  0,  0],\n",
              "       [ 0,  0, 50,  0,  0,  0,  0,  0,  0,  0],\n",
              "       [ 0,  0,  0, 63,  0,  0,  0,  0,  1,  0],\n",
              "       [ 0,  0,  0,  0, 48,  0,  0,  0,  0,  1],\n",
              "       [ 0,  0,  0,  0,  0, 48,  1,  0,  1,  2],\n",
              "       [ 0,  1,  0,  0,  0,  0, 56,  0,  0,  0],\n",
              "       [ 0,  0,  0,  0,  0,  0,  0, 58,  0,  0],\n",
              "       [ 0,  1,  1,  0,  1,  1,  0,  1, 48,  0],\n",
              "       [ 0,  0,  0,  0,  1,  1,  0,  0,  0, 51]])"
            ]
          },
          "metadata": {},
          "execution_count": 26
        }
      ]
    },
    {
      "cell_type": "code",
      "source": [
        "print(classification_report(y_test,y_pred))"
      ],
      "metadata": {
        "colab": {
          "base_uri": "https://localhost:8080/"
        },
        "id": "_G6h9z0JwPi7",
        "outputId": "1ebfe0ed-fb92-4b9e-e1d6-b43f92622380"
      },
      "execution_count": null,
      "outputs": [
        {
          "output_type": "stream",
          "name": "stdout",
          "text": [
            "              precision    recall  f1-score   support\n",
            "\n",
            "           0       1.00      0.98      0.99        54\n",
            "           1       0.96      1.00      0.98        50\n",
            "           2       0.98      1.00      0.99        50\n",
            "           3       1.00      0.98      0.99        64\n",
            "           4       0.94      0.98      0.96        49\n",
            "           5       0.96      0.92      0.94        52\n",
            "           6       0.98      0.98      0.98        57\n",
            "           7       0.98      1.00      0.99        58\n",
            "           8       0.96      0.91      0.93        53\n",
            "           9       0.94      0.96      0.95        53\n",
            "\n",
            "    accuracy                           0.97       540\n",
            "   macro avg       0.97      0.97      0.97       540\n",
            "weighted avg       0.97      0.97      0.97       540\n",
            "\n"
          ]
        }
      ]
    }
  ]
}